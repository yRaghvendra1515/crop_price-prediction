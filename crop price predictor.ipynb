{
 "cells": [
  {
   "cell_type": "code",
   "execution_count": 1,
   "metadata": {},
   "outputs": [],
   "source": [
    "import pandas as pd\n",
    "import numpy as np"
   ]
  },
  {
   "cell_type": "code",
   "execution_count": 2,
   "metadata": {},
   "outputs": [],
   "source": [
    "crop=pd.read_csv('crop_price.csv')"
   ]
  },
  {
   "cell_type": "code",
   "execution_count": 3,
   "metadata": {},
   "outputs": [
    {
     "data": {
      "text/html": [
       "<div>\n",
       "<style scoped>\n",
       "    .dataframe tbody tr th:only-of-type {\n",
       "        vertical-align: middle;\n",
       "    }\n",
       "\n",
       "    .dataframe tbody tr th {\n",
       "        vertical-align: top;\n",
       "    }\n",
       "\n",
       "    .dataframe thead th {\n",
       "        text-align: right;\n",
       "    }\n",
       "</style>\n",
       "<table border=\"1\" class=\"dataframe\">\n",
       "  <thead>\n",
       "    <tr style=\"text-align: right;\">\n",
       "      <th></th>\n",
       "      <th>APMC</th>\n",
       "      <th>Commodity</th>\n",
       "      <th>Year</th>\n",
       "      <th>Month</th>\n",
       "      <th>arrivals_in_qtl</th>\n",
       "      <th>min_price</th>\n",
       "      <th>max_price</th>\n",
       "      <th>modal_price</th>\n",
       "      <th>date</th>\n",
       "      <th>district_name</th>\n",
       "      <th>state_name</th>\n",
       "    </tr>\n",
       "  </thead>\n",
       "  <tbody>\n",
       "    <tr>\n",
       "      <th>0</th>\n",
       "      <td>Ahmednagar</td>\n",
       "      <td>Bajri</td>\n",
       "      <td>2015</td>\n",
       "      <td>April</td>\n",
       "      <td>79</td>\n",
       "      <td>1406</td>\n",
       "      <td>1538</td>\n",
       "      <td>1463</td>\n",
       "      <td>2015-04</td>\n",
       "      <td>Ahmadnagar</td>\n",
       "      <td>Maharashtra</td>\n",
       "    </tr>\n",
       "    <tr>\n",
       "      <th>1</th>\n",
       "      <td>Ahmednagar</td>\n",
       "      <td>Bajri</td>\n",
       "      <td>2016</td>\n",
       "      <td>April</td>\n",
       "      <td>106</td>\n",
       "      <td>1788</td>\n",
       "      <td>1925</td>\n",
       "      <td>1875</td>\n",
       "      <td>2016-04</td>\n",
       "      <td>Ahmadnagar</td>\n",
       "      <td>Maharashtra</td>\n",
       "    </tr>\n",
       "    <tr>\n",
       "      <th>2</th>\n",
       "      <td>Ahmednagar</td>\n",
       "      <td>Wheat(Husked)</td>\n",
       "      <td>2015</td>\n",
       "      <td>April</td>\n",
       "      <td>1253</td>\n",
       "      <td>1572</td>\n",
       "      <td>1890</td>\n",
       "      <td>1731</td>\n",
       "      <td>2015-04</td>\n",
       "      <td>Ahmadnagar</td>\n",
       "      <td>Maharashtra</td>\n",
       "    </tr>\n",
       "    <tr>\n",
       "      <th>3</th>\n",
       "      <td>Ahmednagar</td>\n",
       "      <td>Wheat(Husked)</td>\n",
       "      <td>2016</td>\n",
       "      <td>April</td>\n",
       "      <td>387</td>\n",
       "      <td>1750</td>\n",
       "      <td>2220</td>\n",
       "      <td>1999</td>\n",
       "      <td>2016-04</td>\n",
       "      <td>Ahmadnagar</td>\n",
       "      <td>Maharashtra</td>\n",
       "    </tr>\n",
       "    <tr>\n",
       "      <th>4</th>\n",
       "      <td>Ahmednagar</td>\n",
       "      <td>Sorgum(Jawar)</td>\n",
       "      <td>2015</td>\n",
       "      <td>April</td>\n",
       "      <td>3825</td>\n",
       "      <td>1600</td>\n",
       "      <td>2200</td>\n",
       "      <td>1900</td>\n",
       "      <td>2015-04</td>\n",
       "      <td>Ahmadnagar</td>\n",
       "      <td>Maharashtra</td>\n",
       "    </tr>\n",
       "  </tbody>\n",
       "</table>\n",
       "</div>"
      ],
      "text/plain": [
       "         APMC      Commodity  Year  Month  arrivals_in_qtl  min_price  \\\n",
       "0  Ahmednagar          Bajri  2015  April               79       1406   \n",
       "1  Ahmednagar          Bajri  2016  April              106       1788   \n",
       "2  Ahmednagar  Wheat(Husked)  2015  April             1253       1572   \n",
       "3  Ahmednagar  Wheat(Husked)  2016  April              387       1750   \n",
       "4  Ahmednagar  Sorgum(Jawar)  2015  April             3825       1600   \n",
       "\n",
       "   max_price  modal_price     date district_name   state_name  \n",
       "0       1538         1463  2015-04    Ahmadnagar  Maharashtra  \n",
       "1       1925         1875  2016-04    Ahmadnagar  Maharashtra  \n",
       "2       1890         1731  2015-04    Ahmadnagar  Maharashtra  \n",
       "3       2220         1999  2016-04    Ahmadnagar  Maharashtra  \n",
       "4       2200         1900  2015-04    Ahmadnagar  Maharashtra  "
      ]
     },
     "execution_count": 3,
     "metadata": {},
     "output_type": "execute_result"
    }
   ],
   "source": [
    "crop.head()"
   ]
  },
  {
   "cell_type": "code",
   "execution_count": 4,
   "metadata": {},
   "outputs": [
    {
     "data": {
      "text/plain": [
       "(62429, 11)"
      ]
     },
     "execution_count": 4,
     "metadata": {},
     "output_type": "execute_result"
    }
   ],
   "source": [
    "crop.shape"
   ]
  },
  {
   "cell_type": "code",
   "execution_count": 5,
   "metadata": {},
   "outputs": [
    {
     "name": "stdout",
     "output_type": "stream",
     "text": [
      "<class 'pandas.core.frame.DataFrame'>\n",
      "RangeIndex: 62429 entries, 0 to 62428\n",
      "Data columns (total 11 columns):\n",
      " #   Column           Non-Null Count  Dtype \n",
      "---  ------           --------------  ----- \n",
      " 0   APMC             62429 non-null  object\n",
      " 1   Commodity        62429 non-null  object\n",
      " 2   Year             62429 non-null  int64 \n",
      " 3   Month            62429 non-null  object\n",
      " 4   arrivals_in_qtl  62429 non-null  int64 \n",
      " 5   min_price        62429 non-null  int64 \n",
      " 6   max_price        62429 non-null  int64 \n",
      " 7   modal_price      62429 non-null  int64 \n",
      " 8   date             62429 non-null  object\n",
      " 9   district_name    62429 non-null  object\n",
      " 10  state_name       62429 non-null  object\n",
      "dtypes: int64(5), object(6)\n",
      "memory usage: 5.2+ MB\n"
     ]
    }
   ],
   "source": [
    "crop.info()"
   ]
  },
  {
   "cell_type": "code",
   "execution_count": 6,
   "metadata": {},
   "outputs": [
    {
     "data": {
      "text/plain": [
       "array(['Ahmednagar', 'Akole', 'Jamkhed', 'Kopargaon', 'Newasa',\n",
       "       'Newasa-Ghodegaon', 'Parner', 'Pathardi', 'Rahata', 'Rahuri',\n",
       "       'Rahuri-Vambori', 'Sangamner', 'Shevgaon', 'Shevgaon-Bodhegaon',\n",
       "       'Shrirampur', 'Shrirampur-Belapur', 'Shrigonda',\n",
       "       'Shrigonda-Ghogargaon', 'Karjat (A- Nagar)', 'Rahuri-Songaon',\n",
       "       'Akola', 'Akot', 'Balapur', 'Murtizapur', 'Patur', 'Telhara',\n",
       "       'Barshi Takli', 'Achalpur', 'Amarawati',\n",
       "       'Amarawati-Fruit And Vegetables', 'Anajngaon Surji',\n",
       "       'Chandur Bajar', 'Chandur Rly.', 'Daryapur', 'Dhamangaon-Rly',\n",
       "       'Dharni', 'Morshi', 'Nandgaon Khandeshwar', 'Varud',\n",
       "       'Varud-Rajura Bazar', 'Tiwasa', 'Aurangabad', 'Fulambri',\n",
       "       'Gangapur', 'Kannad', 'Lasur Station', 'Paithan', 'Sillod',\n",
       "       'Sillod-Bharadi', 'Soygaon', 'Vaijapur', 'Khultabad', 'Ambejogai',\n",
       "       'Beed', 'Gevrai', 'Kada', 'Kada (Ashti)', 'Kej', 'Kille Dharur',\n",
       "       'Majalgaon', 'Parli-Vaijnath', 'Bhandara', 'Lakhandur', 'Lakhani',\n",
       "       'Pavani', 'Tumsar', 'Buldhana', 'Buldhana-Dhad', 'Chikhali',\n",
       "       'Deulgaon Raja', 'Jalgaon Jamod', 'Jalgaon Jamod-Aasalgaon',\n",
       "       'Khamgaon', 'Lonar', 'Malkapur', 'Mehkar', 'Nandura', 'Sangrampur',\n",
       "       'Sangrampur-Varvatbakal', 'Shegaon', 'Sindkhed Raja', 'Brahmpuri',\n",
       "       'Chandrapur', 'Chandrapur-Ganjwad', 'Chimur', 'Gondpimpri',\n",
       "       'Korpana', 'Mul', 'Nagbhid', 'Pombhurni', 'Rajura', 'Savali',\n",
       "       'Sindevahi', 'Varora', 'Bhadrawati', 'Dhule', 'Dondaicha',\n",
       "       'Dondaicha-Sindkheda', 'Sakri', 'Shirpur', 'Aheri', 'Armori',\n",
       "       'Armori-Desaiganj', 'Chamorshi', 'Gadchiroli', 'Sironcha',\n",
       "       'Aamgaon', 'Arjuni Morgaon', 'Gondiya', 'Sadak Arjuni', 'Tiroda',\n",
       "       'Goregaon', 'Devri', 'Akhadabalapur', 'Basmat', 'Hingoli',\n",
       "       'Jawala-Bajar', 'Kalamnuri', 'Sengaon', 'Basmat (Kurunda)',\n",
       "       'Hingoli-Kanegaon Naka', 'Amalner', 'Bhusaval', 'Bodwad-Varangaon',\n",
       "       'Chalisgaon', 'Chopda', 'Dharangaon', 'Jalgaon', 'Jalgaon-Masawat',\n",
       "       'Jamner', 'Jamner-Neri', 'Parola', 'Raver', 'Yawal', 'Pachora',\n",
       "       'Raver-Sawada', 'Ambad(Vadi Godri)', 'Bhokardan',\n",
       "       'Bhokardan-Pimpalgaon Renu', 'Ghansawangi', 'Jafrabad', 'Jalna',\n",
       "       'Jalna-Badnapur', 'Mantha', 'Partur', 'Ashti (Jalna)',\n",
       "       'Gadhinglaj', 'Kolhapur', 'Kolhapur-Laxmipuri',\n",
       "       'Kolhapur-Malkapur', 'Vadgaon Peth', 'Ahmedpur', 'Aurad Shahajani',\n",
       "       'Ausa', 'Chakur', 'Devani', 'Jalkot', 'Latur', 'Latur-Murud',\n",
       "       'Udgir', 'Nilanga', 'Mumbai', 'Mumbai-Fruit Market',\n",
       "       'Mumbai-Onion And Potato Mkt', 'Bhiwapur', 'Hingna', 'Kalmeshwar',\n",
       "       'Kamthi', 'Katol', 'Mandhal', 'Nagpur', 'Narkhed', 'Parshiwani',\n",
       "       'Ramtek', 'Savner', 'Umared', 'Mauda', 'Bhokar', 'Hadgaon',\n",
       "       'Hadgaon-Tamsa', 'Kinwat', 'Loha', 'Mahur', 'Nanded', 'Umari',\n",
       "       'Deglur', 'Naigaon', 'Dharmabad', 'Hanegaon', 'Himayatnagar',\n",
       "       'Kundalwadi', 'Mudkhed', 'Mukhed', 'Biloli', 'Kuntur', 'Akkalkuwa',\n",
       "       'Nandurbar', 'Navapur', 'Shahada', 'Taloda', 'Dhadgaon',\n",
       "       'Chandvad', 'Devala', 'Dindori', 'Dindori-Vani', 'Ghoti', 'Kalvan',\n",
       "       'Lasalgaon', 'Lasalgaon-Niphad', 'Lasalgaon-Vinchur', 'Malegaon',\n",
       "       'Manmad', 'Nampur', 'Nashik', 'Nashik-Devlali',\n",
       "       'Pimpalgaon (B)-Saykheda', 'Pimpalgaon Basawant', 'Satana',\n",
       "       'Sinner', 'Umrane', 'Yeola', 'Nandgaon', 'Kalamb (Os)', 'Murum',\n",
       "       'Osmanabad', 'Paranda', 'Tuljapur', 'Umarga', 'Lohara',\n",
       "       'Washi(Osmanabad)', 'Bhoom', 'Gangakhed', 'Jintur', 'Jintur-Bori',\n",
       "       'Palam', 'Parbhani', 'Pathari', 'Purna', 'Sailu', 'Sonpeth',\n",
       "       'Manwat', 'Bori', 'Tadkalas', 'Baramati', 'Dound', 'Indapur',\n",
       "       'Indapur (Nimgaon Ketki)', 'Indapur-Bhigwan', 'Junnar',\n",
       "       'Junnar (Alephata)', 'Junnar (Narayangaon)', 'Junnar-Otur',\n",
       "       'Khed (Shel Pimpalgaon)', 'Khed-Chakan', 'Manchar', 'Nira',\n",
       "       'Nira-Saswad', 'Pune', 'Pune-Manjri', 'Pune-Pimpri', 'Shirur',\n",
       "       'Junnar (Bhlhe)', 'Khed', 'Pune-Moshi', 'Bhor', 'Talegaon Dabhade',\n",
       "       'Alibag', 'Karjat (Raigad)', 'Mangaon(Bhadav)', 'Murud', 'Panvel',\n",
       "       'Pen', 'Roha', 'Khalapur(Shil-Phata)', 'Mahad', 'Ratanagari',\n",
       "       'Atpadi', 'Islampur', 'Sangali', 'Sangli-Miraj',\n",
       "       'Sangli-Phale Bhajipalam', 'Tasgaon', 'Palus', 'Vita', 'Shirala',\n",
       "       'Karad', 'Koregaon', 'Lonand', 'Patan', 'Phaltan', 'Satara',\n",
       "       'Vaduj', 'Vai', 'Akkolkot', 'Akluj', 'Barshi', 'Barshi-Vairag',\n",
       "       'Dudhani', 'Karmala', 'Kurdwadi', 'Kurdwadi-Modnimb',\n",
       "       'Mangalwedha', 'Mohol', 'Pandharpur', 'Sangola', 'Solapur',\n",
       "       'Bhivandi', 'Kalyan', 'Murbad', 'Palghar(Bevur)', 'Shahapur',\n",
       "       'Ulhasnagar', 'Vasai', 'Kalyan (Cattle Market)', 'Arvi',\n",
       "       'Ashti (Wardha)', 'Ashti-Karanja', 'Hinganghat', 'Pulgaon',\n",
       "       'Samudrapur', 'Sindi', 'Sindi (Selu)', 'Wardha', 'Karanja',\n",
       "       'Malegaon (Washim)', 'Mangrulpeer', 'Manora', 'Risod', 'Washim',\n",
       "       'Washim-Ansing', 'Aarni', 'Babhulgaon', 'Digras', 'Ghatanji',\n",
       "       'Kalamb (Yawatmal)', 'Mahagaon', 'Ner Parasopant', 'Pandharkawada',\n",
       "       'Pusad', 'Ralegaon', 'Umarkhed', 'Umarkhed-Danki', 'Vani',\n",
       "       'Yeotmal', 'Zarijamini', 'Maregaon', 'Bori Arab', 'Darwha',\n",
       "       'Vadvani'], dtype=object)"
      ]
     },
     "execution_count": 6,
     "metadata": {},
     "output_type": "execute_result"
    }
   ],
   "source": [
    "crop['APMC'].unique()\n"
   ]
  },
  {
   "cell_type": "code",
   "execution_count": 7,
   "metadata": {},
   "outputs": [
    {
     "data": {
      "text/plain": [
       "array(['Bajri', 'Wheat(Husked)', 'Sorgum(Jawar)', 'Maize', 'Gram',\n",
       "       'Horse Gram', 'Matki', 'Pigeon Pea (Tur)', 'Black Gram',\n",
       "       'Castor Seed', 'Soybean', 'Jaggery', 'Lemon', 'Ginger (Fresh)',\n",
       "       'Potato', 'Ladies Finger', 'Flower', 'Carrot', 'Cluster Bean',\n",
       "       'Ghevda', 'Ghosali(Bhaji)', 'Mango(Raw)', 'Cucumber', 'Onion',\n",
       "       'Bitter Gourd', 'Cabbage', 'Garlic', 'Math (Bhaji)', 'Capsicum',\n",
       "       'Tomato', 'Brinjal', 'Tamarind', 'Tamarind Seed',\n",
       "       'Coriander (Dry)', 'Green Chilli', 'Chillies(Red)', 'Mustard',\n",
       "       'Paddy-Unhusked', 'Hilda', 'Chikoo', 'Cotton',\n",
       "       'Ground Nut Pods (Dry)', 'Pomegranate', 'Papai', 'Melon',\n",
       "       'Beet Root', 'Bottle Gourd', 'Dhemse', 'Coriander ', 'Coriander  ',\n",
       "       'Spinach', 'Shevga', 'Small Gourd', 'Grapes', 'Kharbuj',\n",
       "       'Green Gram', 'Sunflower', 'Safflower', 'Mango', 'Water Melon',\n",
       "       'Mosambi', 'Orange', 'Fenugreek', 'Cowpea', 'Green Peas (Dry)',\n",
       "       'Squash Gourd', 'Maize (Corn.)', 'Chino', 'Curry Leaves',\n",
       "       'Sweet Potato', 'Walvad', 'Rice(Paddy-Hus)', 'Custard Apple',\n",
       "       'Green-Peas', 'Maize(Corn.)', 'Bhagar/Vari', 'Bor', 'Kardai',\n",
       "       'Other Vegetables', 'Radish', 'Wal Papdi', 'Kanda Pat', 'Sesamum',\n",
       "       'Shepu', 'Guava', 'Banana', 'Chavli (Shenga )', 'Apple',\n",
       "       'Thymol/Lovage', 'Batbati', 'Other Cereals', 'Linseed',\n",
       "       'Pineapple', 'Pumpkin', 'Methi (Bhaji)', 'Naspatti ', 'He Buffalo',\n",
       "       'Lentil', 'Rajgira', 'Papnas', 'Awala', 'Harbara(Pendi)',\n",
       "       'Buffalo', 'Jambhul', 'Amba Koy', 'Bullock Heart', 'Bullack',\n",
       "       'Fig', 'Wal Bhaji', 'Sugarcane', 'Nagali', 'Ridge Gourd', 'Tag',\n",
       "       'Ginger (Dry)', 'Zendu', 'Other Spices', 'Rala', 'Niger-Seed',\n",
       "       'Indian Bean', 'Oth.Split Pulses', 'Other Pulses', 'Sarsav',\n",
       "       'Neem-Seed', 'Male Lamb', 'Male Goat', 'Sheep', 'Other Oil Seeds',\n",
       "       'Cow', 'Snake Gourd', 'Jack Fruit(Raw)', 'Chavli (Pala)',\n",
       "       'Raddish', 'Mula Shenga', 'Pappaya (Bhaji)', 'Pigen-Pea (Bhaji)',\n",
       "       'Goats', 'Turmeric', 'Amla', 'Split Gram', 'Split Lentil',\n",
       "       'Spilt Gerrn Gram', 'Spilt Pigeon Pea', 'Split Black Gram',\n",
       "       'Gr.Nut Kernels', 'Pavtta', 'Wood Apple', 'Strawberi',\n",
       "       'Leafy Vegetable', 'Peer', 'Plum', 'Hemp-Seed', 'Wheat(Unhusked)',\n",
       "       'Guvar', 'Punvad', 'Fennel', 'Coconut', 'Sugar', 'Arvi',\n",
       "       'French Bean', 'Elephant Root', 'Cummin', 'Cashewnuts',\n",
       "       'Betelnuts', 'Cardamom', 'Pitch', 'Litchi', 'Jack Fruit', 'Kand',\n",
       "       'Parwar', 'Mint', 'Lang', 'Ambat Chuka', 'Karvand', 'Nolkol',\n",
       "       'Hemp', 'Baru Seed', 'Shepa', 'Soup Berries', 'Shahale ',\n",
       "       'Tandulja', 'Ghee', 'Farshi', 'Double Bee', 'Banana(Raw)',\n",
       "       'Goosefoot', 'Ghevda Seed', 'Pavata', 'Harbara(Bhaji)', 'Gulchadi',\n",
       "       'Shewanti', 'Jui', 'Kagda', 'Terda', 'Tuljapuri', 'Bijli',\n",
       "       'Nachani', 'Bedana', 'Fodder', 'Skin & Bones', 'Aster', 'Chandani',\n",
       "       'Kalvad', 'MOSAMBI', 'CABBAGE', 'RIDGE GOURD', 'GRAM',\n",
       "       'GREEN CHILLI', 'LEMON', 'MAIZE', 'CORIANDER (DRY)', 'BLACK GRAM',\n",
       "       'MELON', 'GREEN GRAM', 'POMEGRANATE', 'COWPEA', 'MATH (BHAJI)',\n",
       "       'CAPSICUM', 'LADIES FINGER', 'GHOSALI(BHAJI)', 'CUCUMBER',\n",
       "       'GARLIC', 'BOTTLE GOURD', 'SHEVGA', 'SPINACH', 'SOYBEAN',\n",
       "       'GROUND NUT PODS (DRY)', 'BAJRI', 'WHEAT(HUSKED)', 'COTTON',\n",
       "       'PIGEON PEA (TUR)', 'PADDY-UNHUSKED', 'SQUASH GOURD', 'BRINJAL',\n",
       "       'SORGUM(JAWAR)', 'RICE(PADDY-HUS)', 'SUNFLOWER', 'CHILLIES(RED)',\n",
       "       'POTATO', 'OTHER PULSES', 'LINSEED', 'MUSTARD', 'FLOWER',\n",
       "       'METHI (BHAJI)', 'TOMATO', 'PIGEN-PEA (BHAJI)', 'WAL PAPDI',\n",
       "       'BHAGAR/VARI', 'TURMERIC', 'WHEAT(UNHUSKED)', 'SAFFLOWER',\n",
       "       'NIGER-SEED', 'SESAMUM', 'BATBATI', 'BOR', 'CHIKOO', 'GRAPES',\n",
       "       'PAPAI', 'APPLE', 'ORANGE', 'CUSTARD APPLE', 'GINGER (FRESH)',\n",
       "       'BEET ROOT', 'DHEMSE', 'CARROT', 'CLUSTER BEAN', 'ONION',\n",
       "       'BITTER GOURD', 'PUMPKIN', 'CORIANDER ', 'GREEN-PEAS', 'BANANA',\n",
       "       'OTHER CEREALS', 'SARSAV', 'JAGGERY', 'PINEAPPLE', 'WATER MELON',\n",
       "       'AWALA', 'CHAVLI (SHENGA )', 'CHAVLI (PALA)', 'RADDISH',\n",
       "       'SMALL GOURD', 'WAL BHAJI', 'GREEN PEAS (DRY)', 'JACK FRUIT',\n",
       "       'PARWAR', 'GUAVA', 'AMBAT CHUKA', 'LEAFY VEGETABLE', 'KANDA PAT',\n",
       "       'MINT', 'ELEPHANT ROOT', 'WALVAD', 'FARSHI', 'BUFFALO',\n",
       "       'MALE GOAT', 'HORSE GRAM', 'LENTIL', 'MATKI', 'PAVTTA', 'PAVATA',\n",
       "       'GHEVDA SEED', 'GHEVDA', 'SNAKE GOURD', 'SWEET POTATO',\n",
       "       'GOOSEFOOT', 'MULA SHENGA', 'SHEPU', 'KHARBUJ', 'FODDER', 'GOATS',\n",
       "       'FIG', 'MANGO(RAW)', 'MAIZE(CORN.)', 'CASTOR SEED', 'GUVAR',\n",
       "       'PUNVAD', 'KARDAI', 'SHEEP', 'MALE LAMB', 'AMLA', 'SHAHALE',\n",
       "       'TANDULJA', 'SPLIT GRAM', 'SPLIT LENTIL', 'SPILT GERRN GRAM',\n",
       "       'SPILT PIGEON PEA', 'SPLIT BLACK GRAM', 'GR.NUT KERNELS',\n",
       "       'INDIAN BEAN', 'ARVI', 'DOUBLE BEE', 'NOLKOL', 'HEMP',\n",
       "       'HARBARA(BHAJI)', 'HARBARA(PENDI)', 'OTHER VEGETABLES',\n",
       "       'CURRY LEAVES', 'RAJGIRA', 'GROUNDNUT PODS (WET)', 'NACHANI',\n",
       "       'NAGALI', 'FRENCH BEAN', 'FENNEL', 'COCONUT', 'SUGAR',\n",
       "       'GINGER (DRY)', 'TAMARIND', 'CUMMIN', 'CASHEWNUTS', 'BETELNUTS',\n",
       "       'CARDAMOM', 'MANGO'], dtype=object)"
      ]
     },
     "execution_count": 7,
     "metadata": {},
     "output_type": "execute_result"
    }
   ],
   "source": [
    "crop['Commodity'].unique()"
   ]
  },
  {
   "cell_type": "code",
   "execution_count": 8,
   "metadata": {},
   "outputs": [
    {
     "data": {
      "text/plain": [
       "array([2015, 2016, 2014], dtype=int64)"
      ]
     },
     "execution_count": 8,
     "metadata": {},
     "output_type": "execute_result"
    }
   ],
   "source": [
    "crop['Year'].unique() ### year should be in integer not in objects"
   ]
  },
  {
   "cell_type": "code",
   "execution_count": 9,
   "metadata": {},
   "outputs": [
    {
     "data": {
      "text/plain": [
       "array([    79,    106,   1253, ...,  60582, 101385,  15490], dtype=int64)"
      ]
     },
     "execution_count": 9,
     "metadata": {},
     "output_type": "execute_result"
    }
   ],
   "source": [
    "crop['arrivals_in_qtl'].unique()"
   ]
  },
  {
   "cell_type": "code",
   "execution_count": 10,
   "metadata": {},
   "outputs": [
    {
     "data": {
      "text/plain": [
       "array(['April', 'August', 'December', 'February', 'January', 'July',\n",
       "       'June', 'March', 'May', 'November', 'October', 'September'],\n",
       "      dtype=object)"
      ]
     },
     "execution_count": 10,
     "metadata": {},
     "output_type": "execute_result"
    }
   ],
   "source": [
    "crop['Month'].unique()"
   ]
  },
  {
   "cell_type": "code",
   "execution_count": 11,
   "metadata": {},
   "outputs": [
    {
     "data": {
      "text/plain": [
       "array([  1463,   1875,   1731, ...,  24131, 142344,   6761], dtype=int64)"
      ]
     },
     "execution_count": 11,
     "metadata": {},
     "output_type": "execute_result"
    }
   ],
   "source": [
    "crop['modal_price'].unique()"
   ]
  },
  {
   "cell_type": "code",
   "execution_count": 12,
   "metadata": {},
   "outputs": [
    {
     "data": {
      "text/plain": [
       "array(['Ahmadnagar', 'Akola', 'Amaravathi', 'Aurangabad', 'Beed',\n",
       "       'Bhandara', 'Buldhana', 'Chandrapur', 'Dhule', 'Gadchiroli',\n",
       "       'Gondiya', 'Hingoli', 'Jalgaon', 'Jalna', 'Kolhapur', 'Latur',\n",
       "       'Mumbai', 'Nagpur', 'Nanded', 'Nandurbar', 'Nasik', 'Osmanabad',\n",
       "       'Parbhani', 'Pune', 'Raigad', 'Ratnagiri', 'Sangli', 'Satara',\n",
       "       'Solapur', 'Thane', 'Wardha', 'Wasim', 'Yewatmal'], dtype=object)"
      ]
     },
     "execution_count": 12,
     "metadata": {},
     "output_type": "execute_result"
    }
   ],
   "source": [
    "crop['district_name'].unique()"
   ]
  },
  {
   "cell_type": "code",
   "execution_count": 13,
   "metadata": {},
   "outputs": [
    {
     "data": {
      "text/plain": [
       "array(['2015-04', '2016-04', '2015-08', '2016-08', '2015-12', '2014-12',\n",
       "       '2015-02', '2016-02', '2015-01', '2016-01', '2015-07', '2016-07',\n",
       "       '2015-06', '2016-06', '2015-03', '2016-03', '2016-05', '2015-05',\n",
       "       '2014-11', '2015-11', '2015-10', '2016-10', '2014-10', '2014-09',\n",
       "       '2015-09', '2016-09', '2016-11'], dtype=object)"
      ]
     },
     "execution_count": 13,
     "metadata": {},
     "output_type": "execute_result"
    }
   ],
   "source": [
    "crop['date'].unique()"
   ]
  },
  {
   "cell_type": "code",
   "execution_count": 14,
   "metadata": {},
   "outputs": [],
   "source": [
    "backup=crop.copy()"
   ]
  },
  {
   "cell_type": "code",
   "execution_count": null,
   "metadata": {},
   "outputs": [],
   "source": []
  },
  {
   "cell_type": "code",
   "execution_count": 15,
   "metadata": {},
   "outputs": [],
   "source": [
    "crop=crop.drop(columns=\"state_name\")"
   ]
  },
  {
   "cell_type": "code",
   "execution_count": 16,
   "metadata": {},
   "outputs": [
    {
     "data": {
      "text/html": [
       "<div>\n",
       "<style scoped>\n",
       "    .dataframe tbody tr th:only-of-type {\n",
       "        vertical-align: middle;\n",
       "    }\n",
       "\n",
       "    .dataframe tbody tr th {\n",
       "        vertical-align: top;\n",
       "    }\n",
       "\n",
       "    .dataframe thead th {\n",
       "        text-align: right;\n",
       "    }\n",
       "</style>\n",
       "<table border=\"1\" class=\"dataframe\">\n",
       "  <thead>\n",
       "    <tr style=\"text-align: right;\">\n",
       "      <th></th>\n",
       "      <th>APMC</th>\n",
       "      <th>Commodity</th>\n",
       "      <th>Year</th>\n",
       "      <th>Month</th>\n",
       "      <th>arrivals_in_qtl</th>\n",
       "      <th>min_price</th>\n",
       "      <th>max_price</th>\n",
       "      <th>modal_price</th>\n",
       "      <th>date</th>\n",
       "      <th>district_name</th>\n",
       "    </tr>\n",
       "  </thead>\n",
       "  <tbody>\n",
       "    <tr>\n",
       "      <th>0</th>\n",
       "      <td>Ahmednagar</td>\n",
       "      <td>Bajri</td>\n",
       "      <td>2015</td>\n",
       "      <td>April</td>\n",
       "      <td>79</td>\n",
       "      <td>1406</td>\n",
       "      <td>1538</td>\n",
       "      <td>1463</td>\n",
       "      <td>2015-04</td>\n",
       "      <td>Ahmadnagar</td>\n",
       "    </tr>\n",
       "    <tr>\n",
       "      <th>1</th>\n",
       "      <td>Ahmednagar</td>\n",
       "      <td>Bajri</td>\n",
       "      <td>2016</td>\n",
       "      <td>April</td>\n",
       "      <td>106</td>\n",
       "      <td>1788</td>\n",
       "      <td>1925</td>\n",
       "      <td>1875</td>\n",
       "      <td>2016-04</td>\n",
       "      <td>Ahmadnagar</td>\n",
       "    </tr>\n",
       "    <tr>\n",
       "      <th>2</th>\n",
       "      <td>Ahmednagar</td>\n",
       "      <td>Wheat(Husked)</td>\n",
       "      <td>2015</td>\n",
       "      <td>April</td>\n",
       "      <td>1253</td>\n",
       "      <td>1572</td>\n",
       "      <td>1890</td>\n",
       "      <td>1731</td>\n",
       "      <td>2015-04</td>\n",
       "      <td>Ahmadnagar</td>\n",
       "    </tr>\n",
       "    <tr>\n",
       "      <th>3</th>\n",
       "      <td>Ahmednagar</td>\n",
       "      <td>Wheat(Husked)</td>\n",
       "      <td>2016</td>\n",
       "      <td>April</td>\n",
       "      <td>387</td>\n",
       "      <td>1750</td>\n",
       "      <td>2220</td>\n",
       "      <td>1999</td>\n",
       "      <td>2016-04</td>\n",
       "      <td>Ahmadnagar</td>\n",
       "    </tr>\n",
       "    <tr>\n",
       "      <th>4</th>\n",
       "      <td>Ahmednagar</td>\n",
       "      <td>Sorgum(Jawar)</td>\n",
       "      <td>2015</td>\n",
       "      <td>April</td>\n",
       "      <td>3825</td>\n",
       "      <td>1600</td>\n",
       "      <td>2200</td>\n",
       "      <td>1900</td>\n",
       "      <td>2015-04</td>\n",
       "      <td>Ahmadnagar</td>\n",
       "    </tr>\n",
       "  </tbody>\n",
       "</table>\n",
       "</div>"
      ],
      "text/plain": [
       "         APMC      Commodity  Year  Month  arrivals_in_qtl  min_price  \\\n",
       "0  Ahmednagar          Bajri  2015  April               79       1406   \n",
       "1  Ahmednagar          Bajri  2016  April              106       1788   \n",
       "2  Ahmednagar  Wheat(Husked)  2015  April             1253       1572   \n",
       "3  Ahmednagar  Wheat(Husked)  2016  April              387       1750   \n",
       "4  Ahmednagar  Sorgum(Jawar)  2015  April             3825       1600   \n",
       "\n",
       "   max_price  modal_price     date district_name  \n",
       "0       1538         1463  2015-04    Ahmadnagar  \n",
       "1       1925         1875  2016-04    Ahmadnagar  \n",
       "2       1890         1731  2015-04    Ahmadnagar  \n",
       "3       2220         1999  2016-04    Ahmadnagar  \n",
       "4       2200         1900  2015-04    Ahmadnagar  "
      ]
     },
     "execution_count": 16,
     "metadata": {},
     "output_type": "execute_result"
    }
   ],
   "source": [
    "crop.head()"
   ]
  },
  {
   "cell_type": "code",
   "execution_count": 17,
   "metadata": {},
   "outputs": [],
   "source": [
    "crop=crop.drop(columns=\"date\")"
   ]
  },
  {
   "cell_type": "code",
   "execution_count": 18,
   "metadata": {},
   "outputs": [
    {
     "data": {
      "text/html": [
       "<div>\n",
       "<style scoped>\n",
       "    .dataframe tbody tr th:only-of-type {\n",
       "        vertical-align: middle;\n",
       "    }\n",
       "\n",
       "    .dataframe tbody tr th {\n",
       "        vertical-align: top;\n",
       "    }\n",
       "\n",
       "    .dataframe thead th {\n",
       "        text-align: right;\n",
       "    }\n",
       "</style>\n",
       "<table border=\"1\" class=\"dataframe\">\n",
       "  <thead>\n",
       "    <tr style=\"text-align: right;\">\n",
       "      <th></th>\n",
       "      <th>APMC</th>\n",
       "      <th>Commodity</th>\n",
       "      <th>Year</th>\n",
       "      <th>Month</th>\n",
       "      <th>arrivals_in_qtl</th>\n",
       "      <th>min_price</th>\n",
       "      <th>max_price</th>\n",
       "      <th>modal_price</th>\n",
       "      <th>district_name</th>\n",
       "    </tr>\n",
       "  </thead>\n",
       "  <tbody>\n",
       "    <tr>\n",
       "      <th>0</th>\n",
       "      <td>Ahmednagar</td>\n",
       "      <td>Bajri</td>\n",
       "      <td>2015</td>\n",
       "      <td>April</td>\n",
       "      <td>79</td>\n",
       "      <td>1406</td>\n",
       "      <td>1538</td>\n",
       "      <td>1463</td>\n",
       "      <td>Ahmadnagar</td>\n",
       "    </tr>\n",
       "    <tr>\n",
       "      <th>1</th>\n",
       "      <td>Ahmednagar</td>\n",
       "      <td>Bajri</td>\n",
       "      <td>2016</td>\n",
       "      <td>April</td>\n",
       "      <td>106</td>\n",
       "      <td>1788</td>\n",
       "      <td>1925</td>\n",
       "      <td>1875</td>\n",
       "      <td>Ahmadnagar</td>\n",
       "    </tr>\n",
       "    <tr>\n",
       "      <th>2</th>\n",
       "      <td>Ahmednagar</td>\n",
       "      <td>Wheat(Husked)</td>\n",
       "      <td>2015</td>\n",
       "      <td>April</td>\n",
       "      <td>1253</td>\n",
       "      <td>1572</td>\n",
       "      <td>1890</td>\n",
       "      <td>1731</td>\n",
       "      <td>Ahmadnagar</td>\n",
       "    </tr>\n",
       "    <tr>\n",
       "      <th>3</th>\n",
       "      <td>Ahmednagar</td>\n",
       "      <td>Wheat(Husked)</td>\n",
       "      <td>2016</td>\n",
       "      <td>April</td>\n",
       "      <td>387</td>\n",
       "      <td>1750</td>\n",
       "      <td>2220</td>\n",
       "      <td>1999</td>\n",
       "      <td>Ahmadnagar</td>\n",
       "    </tr>\n",
       "    <tr>\n",
       "      <th>4</th>\n",
       "      <td>Ahmednagar</td>\n",
       "      <td>Sorgum(Jawar)</td>\n",
       "      <td>2015</td>\n",
       "      <td>April</td>\n",
       "      <td>3825</td>\n",
       "      <td>1600</td>\n",
       "      <td>2200</td>\n",
       "      <td>1900</td>\n",
       "      <td>Ahmadnagar</td>\n",
       "    </tr>\n",
       "  </tbody>\n",
       "</table>\n",
       "</div>"
      ],
      "text/plain": [
       "         APMC      Commodity  Year  Month  arrivals_in_qtl  min_price  \\\n",
       "0  Ahmednagar          Bajri  2015  April               79       1406   \n",
       "1  Ahmednagar          Bajri  2016  April              106       1788   \n",
       "2  Ahmednagar  Wheat(Husked)  2015  April             1253       1572   \n",
       "3  Ahmednagar  Wheat(Husked)  2016  April              387       1750   \n",
       "4  Ahmednagar  Sorgum(Jawar)  2015  April             3825       1600   \n",
       "\n",
       "   max_price  modal_price district_name  \n",
       "0       1538         1463    Ahmadnagar  \n",
       "1       1925         1875    Ahmadnagar  \n",
       "2       1890         1731    Ahmadnagar  \n",
       "3       2220         1999    Ahmadnagar  \n",
       "4       2200         1900    Ahmadnagar  "
      ]
     },
     "execution_count": 18,
     "metadata": {},
     "output_type": "execute_result"
    }
   ],
   "source": [
    "crop.head()"
   ]
  },
  {
   "cell_type": "code",
   "execution_count": 19,
   "metadata": {},
   "outputs": [],
   "source": [
    "crop=crop.drop(columns=\"min_price\")"
   ]
  },
  {
   "cell_type": "code",
   "execution_count": 20,
   "metadata": {},
   "outputs": [],
   "source": [
    "crop=crop.drop(columns=\"max_price\")"
   ]
  },
  {
   "cell_type": "code",
   "execution_count": 21,
   "metadata": {},
   "outputs": [
    {
     "data": {
      "text/html": [
       "<div>\n",
       "<style scoped>\n",
       "    .dataframe tbody tr th:only-of-type {\n",
       "        vertical-align: middle;\n",
       "    }\n",
       "\n",
       "    .dataframe tbody tr th {\n",
       "        vertical-align: top;\n",
       "    }\n",
       "\n",
       "    .dataframe thead th {\n",
       "        text-align: right;\n",
       "    }\n",
       "</style>\n",
       "<table border=\"1\" class=\"dataframe\">\n",
       "  <thead>\n",
       "    <tr style=\"text-align: right;\">\n",
       "      <th></th>\n",
       "      <th>APMC</th>\n",
       "      <th>Commodity</th>\n",
       "      <th>Year</th>\n",
       "      <th>Month</th>\n",
       "      <th>arrivals_in_qtl</th>\n",
       "      <th>modal_price</th>\n",
       "      <th>district_name</th>\n",
       "    </tr>\n",
       "  </thead>\n",
       "  <tbody>\n",
       "    <tr>\n",
       "      <th>0</th>\n",
       "      <td>Ahmednagar</td>\n",
       "      <td>Bajri</td>\n",
       "      <td>2015</td>\n",
       "      <td>April</td>\n",
       "      <td>79</td>\n",
       "      <td>1463</td>\n",
       "      <td>Ahmadnagar</td>\n",
       "    </tr>\n",
       "    <tr>\n",
       "      <th>1</th>\n",
       "      <td>Ahmednagar</td>\n",
       "      <td>Bajri</td>\n",
       "      <td>2016</td>\n",
       "      <td>April</td>\n",
       "      <td>106</td>\n",
       "      <td>1875</td>\n",
       "      <td>Ahmadnagar</td>\n",
       "    </tr>\n",
       "    <tr>\n",
       "      <th>2</th>\n",
       "      <td>Ahmednagar</td>\n",
       "      <td>Wheat(Husked)</td>\n",
       "      <td>2015</td>\n",
       "      <td>April</td>\n",
       "      <td>1253</td>\n",
       "      <td>1731</td>\n",
       "      <td>Ahmadnagar</td>\n",
       "    </tr>\n",
       "    <tr>\n",
       "      <th>3</th>\n",
       "      <td>Ahmednagar</td>\n",
       "      <td>Wheat(Husked)</td>\n",
       "      <td>2016</td>\n",
       "      <td>April</td>\n",
       "      <td>387</td>\n",
       "      <td>1999</td>\n",
       "      <td>Ahmadnagar</td>\n",
       "    </tr>\n",
       "    <tr>\n",
       "      <th>4</th>\n",
       "      <td>Ahmednagar</td>\n",
       "      <td>Sorgum(Jawar)</td>\n",
       "      <td>2015</td>\n",
       "      <td>April</td>\n",
       "      <td>3825</td>\n",
       "      <td>1900</td>\n",
       "      <td>Ahmadnagar</td>\n",
       "    </tr>\n",
       "  </tbody>\n",
       "</table>\n",
       "</div>"
      ],
      "text/plain": [
       "         APMC      Commodity  Year  Month  arrivals_in_qtl  modal_price  \\\n",
       "0  Ahmednagar          Bajri  2015  April               79         1463   \n",
       "1  Ahmednagar          Bajri  2016  April              106         1875   \n",
       "2  Ahmednagar  Wheat(Husked)  2015  April             1253         1731   \n",
       "3  Ahmednagar  Wheat(Husked)  2016  April              387         1999   \n",
       "4  Ahmednagar  Sorgum(Jawar)  2015  April             3825         1900   \n",
       "\n",
       "  district_name  \n",
       "0    Ahmadnagar  \n",
       "1    Ahmadnagar  \n",
       "2    Ahmadnagar  \n",
       "3    Ahmadnagar  \n",
       "4    Ahmadnagar  "
      ]
     },
     "execution_count": 21,
     "metadata": {},
     "output_type": "execute_result"
    }
   ],
   "source": [
    "crop.head()"
   ]
  },
  {
   "cell_type": "code",
   "execution_count": 22,
   "metadata": {},
   "outputs": [
    {
     "name": "stdout",
     "output_type": "stream",
     "text": [
      "<class 'pandas.core.frame.DataFrame'>\n",
      "RangeIndex: 62429 entries, 0 to 62428\n",
      "Data columns (total 7 columns):\n",
      " #   Column           Non-Null Count  Dtype \n",
      "---  ------           --------------  ----- \n",
      " 0   APMC             62429 non-null  object\n",
      " 1   Commodity        62429 non-null  object\n",
      " 2   Year             62429 non-null  int64 \n",
      " 3   Month            62429 non-null  object\n",
      " 4   arrivals_in_qtl  62429 non-null  int64 \n",
      " 5   modal_price      62429 non-null  int64 \n",
      " 6   district_name    62429 non-null  object\n",
      "dtypes: int64(3), object(4)\n",
      "memory usage: 3.3+ MB\n"
     ]
    }
   ],
   "source": [
    "crop.info()"
   ]
  },
  {
   "cell_type": "code",
   "execution_count": 23,
   "metadata": {},
   "outputs": [
    {
     "data": {
      "text/html": [
       "<div>\n",
       "<style scoped>\n",
       "    .dataframe tbody tr th:only-of-type {\n",
       "        vertical-align: middle;\n",
       "    }\n",
       "\n",
       "    .dataframe tbody tr th {\n",
       "        vertical-align: top;\n",
       "    }\n",
       "\n",
       "    .dataframe thead th {\n",
       "        text-align: right;\n",
       "    }\n",
       "</style>\n",
       "<table border=\"1\" class=\"dataframe\">\n",
       "  <thead>\n",
       "    <tr style=\"text-align: right;\">\n",
       "      <th></th>\n",
       "      <th>APMC</th>\n",
       "      <th>Commodity</th>\n",
       "      <th>Year</th>\n",
       "      <th>Month</th>\n",
       "      <th>arrivals_in_qtl</th>\n",
       "      <th>modal_price</th>\n",
       "      <th>district_name</th>\n",
       "    </tr>\n",
       "  </thead>\n",
       "  <tbody>\n",
       "    <tr>\n",
       "      <th>0</th>\n",
       "      <td>Ahmednagar</td>\n",
       "      <td>Bajri</td>\n",
       "      <td>2015</td>\n",
       "      <td>April</td>\n",
       "      <td>79</td>\n",
       "      <td>1463</td>\n",
       "      <td>Ahmadnagar</td>\n",
       "    </tr>\n",
       "    <tr>\n",
       "      <th>1</th>\n",
       "      <td>Ahmednagar</td>\n",
       "      <td>Bajri</td>\n",
       "      <td>2016</td>\n",
       "      <td>April</td>\n",
       "      <td>106</td>\n",
       "      <td>1875</td>\n",
       "      <td>Ahmadnagar</td>\n",
       "    </tr>\n",
       "    <tr>\n",
       "      <th>2</th>\n",
       "      <td>Ahmednagar</td>\n",
       "      <td>Wheat(Husked)</td>\n",
       "      <td>2015</td>\n",
       "      <td>April</td>\n",
       "      <td>1253</td>\n",
       "      <td>1731</td>\n",
       "      <td>Ahmadnagar</td>\n",
       "    </tr>\n",
       "    <tr>\n",
       "      <th>3</th>\n",
       "      <td>Ahmednagar</td>\n",
       "      <td>Wheat(Husked)</td>\n",
       "      <td>2016</td>\n",
       "      <td>April</td>\n",
       "      <td>387</td>\n",
       "      <td>1999</td>\n",
       "      <td>Ahmadnagar</td>\n",
       "    </tr>\n",
       "    <tr>\n",
       "      <th>4</th>\n",
       "      <td>Ahmednagar</td>\n",
       "      <td>Sorgum(Jawar)</td>\n",
       "      <td>2015</td>\n",
       "      <td>April</td>\n",
       "      <td>3825</td>\n",
       "      <td>1900</td>\n",
       "      <td>Ahmadnagar</td>\n",
       "    </tr>\n",
       "    <tr>\n",
       "      <th>...</th>\n",
       "      <td>...</td>\n",
       "      <td>...</td>\n",
       "      <td>...</td>\n",
       "      <td>...</td>\n",
       "      <td>...</td>\n",
       "      <td>...</td>\n",
       "      <td>...</td>\n",
       "    </tr>\n",
       "    <tr>\n",
       "      <th>62424</th>\n",
       "      <td>Shrigonda</td>\n",
       "      <td>GRAM</td>\n",
       "      <td>2016</td>\n",
       "      <td>November</td>\n",
       "      <td>586</td>\n",
       "      <td>6200</td>\n",
       "      <td>Ahmadnagar</td>\n",
       "    </tr>\n",
       "    <tr>\n",
       "      <th>62425</th>\n",
       "      <td>Shrigonda</td>\n",
       "      <td>GREEN GRAM</td>\n",
       "      <td>2016</td>\n",
       "      <td>November</td>\n",
       "      <td>2</td>\n",
       "      <td>5000</td>\n",
       "      <td>Ahmadnagar</td>\n",
       "    </tr>\n",
       "    <tr>\n",
       "      <th>62426</th>\n",
       "      <td>Shrigonda</td>\n",
       "      <td>BLACK GRAM</td>\n",
       "      <td>2016</td>\n",
       "      <td>November</td>\n",
       "      <td>46</td>\n",
       "      <td>6400</td>\n",
       "      <td>Ahmadnagar</td>\n",
       "    </tr>\n",
       "    <tr>\n",
       "      <th>62427</th>\n",
       "      <td>Shrigonda</td>\n",
       "      <td>SOYBEAN</td>\n",
       "      <td>2016</td>\n",
       "      <td>November</td>\n",
       "      <td>166</td>\n",
       "      <td>2633</td>\n",
       "      <td>Ahmadnagar</td>\n",
       "    </tr>\n",
       "    <tr>\n",
       "      <th>62428</th>\n",
       "      <td>Shrigonda</td>\n",
       "      <td>SUNFLOWER</td>\n",
       "      <td>2016</td>\n",
       "      <td>November</td>\n",
       "      <td>74</td>\n",
       "      <td>3067</td>\n",
       "      <td>Ahmadnagar</td>\n",
       "    </tr>\n",
       "  </tbody>\n",
       "</table>\n",
       "<p>62429 rows × 7 columns</p>\n",
       "</div>"
      ],
      "text/plain": [
       "             APMC      Commodity  Year     Month  arrivals_in_qtl  \\\n",
       "0      Ahmednagar          Bajri  2015     April               79   \n",
       "1      Ahmednagar          Bajri  2016     April              106   \n",
       "2      Ahmednagar  Wheat(Husked)  2015     April             1253   \n",
       "3      Ahmednagar  Wheat(Husked)  2016     April              387   \n",
       "4      Ahmednagar  Sorgum(Jawar)  2015     April             3825   \n",
       "...           ...            ...   ...       ...              ...   \n",
       "62424   Shrigonda           GRAM  2016  November              586   \n",
       "62425   Shrigonda     GREEN GRAM  2016  November                2   \n",
       "62426   Shrigonda     BLACK GRAM  2016  November               46   \n",
       "62427   Shrigonda        SOYBEAN  2016  November              166   \n",
       "62428   Shrigonda      SUNFLOWER  2016  November               74   \n",
       "\n",
       "       modal_price district_name  \n",
       "0             1463    Ahmadnagar  \n",
       "1             1875    Ahmadnagar  \n",
       "2             1731    Ahmadnagar  \n",
       "3             1999    Ahmadnagar  \n",
       "4             1900    Ahmadnagar  \n",
       "...            ...           ...  \n",
       "62424         6200    Ahmadnagar  \n",
       "62425         5000    Ahmadnagar  \n",
       "62426         6400    Ahmadnagar  \n",
       "62427         2633    Ahmadnagar  \n",
       "62428         3067    Ahmadnagar  \n",
       "\n",
       "[62429 rows x 7 columns]"
      ]
     },
     "execution_count": 23,
     "metadata": {},
     "output_type": "execute_result"
    }
   ],
   "source": [
    "crop"
   ]
  },
  {
   "cell_type": "code",
   "execution_count": 24,
   "metadata": {},
   "outputs": [],
   "source": [
    "#MODEL\n",
    "\n"
   ]
  },
  {
   "cell_type": "code",
   "execution_count": 25,
   "metadata": {},
   "outputs": [
    {
     "data": {
      "text/html": [
       "<div>\n",
       "<style scoped>\n",
       "    .dataframe tbody tr th:only-of-type {\n",
       "        vertical-align: middle;\n",
       "    }\n",
       "\n",
       "    .dataframe tbody tr th {\n",
       "        vertical-align: top;\n",
       "    }\n",
       "\n",
       "    .dataframe thead th {\n",
       "        text-align: right;\n",
       "    }\n",
       "</style>\n",
       "<table border=\"1\" class=\"dataframe\">\n",
       "  <thead>\n",
       "    <tr style=\"text-align: right;\">\n",
       "      <th></th>\n",
       "      <th>Year</th>\n",
       "      <th>arrivals_in_qtl</th>\n",
       "      <th>modal_price</th>\n",
       "    </tr>\n",
       "  </thead>\n",
       "  <tbody>\n",
       "    <tr>\n",
       "      <th>count</th>\n",
       "      <td>62429.000000</td>\n",
       "      <td>6.242900e+04</td>\n",
       "      <td>62429.000000</td>\n",
       "    </tr>\n",
       "    <tr>\n",
       "      <th>mean</th>\n",
       "      <td>2015.337503</td>\n",
       "      <td>6.043088e+03</td>\n",
       "      <td>3296.003989</td>\n",
       "    </tr>\n",
       "    <tr>\n",
       "      <th>std</th>\n",
       "      <td>0.690451</td>\n",
       "      <td>3.470331e+04</td>\n",
       "      <td>3607.792534</td>\n",
       "    </tr>\n",
       "    <tr>\n",
       "      <th>min</th>\n",
       "      <td>2014.000000</td>\n",
       "      <td>1.000000e+00</td>\n",
       "      <td>0.000000</td>\n",
       "    </tr>\n",
       "    <tr>\n",
       "      <th>25%</th>\n",
       "      <td>2015.000000</td>\n",
       "      <td>3.800000e+01</td>\n",
       "      <td>1450.000000</td>\n",
       "    </tr>\n",
       "    <tr>\n",
       "      <th>50%</th>\n",
       "      <td>2015.000000</td>\n",
       "      <td>2.110000e+02</td>\n",
       "      <td>2425.000000</td>\n",
       "    </tr>\n",
       "    <tr>\n",
       "      <th>75%</th>\n",
       "      <td>2016.000000</td>\n",
       "      <td>1.364000e+03</td>\n",
       "      <td>4257.000000</td>\n",
       "    </tr>\n",
       "    <tr>\n",
       "      <th>max</th>\n",
       "      <td>2016.000000</td>\n",
       "      <td>1.450254e+06</td>\n",
       "      <td>142344.000000</td>\n",
       "    </tr>\n",
       "  </tbody>\n",
       "</table>\n",
       "</div>"
      ],
      "text/plain": [
       "               Year  arrivals_in_qtl    modal_price\n",
       "count  62429.000000     6.242900e+04   62429.000000\n",
       "mean    2015.337503     6.043088e+03    3296.003989\n",
       "std        0.690451     3.470331e+04    3607.792534\n",
       "min     2014.000000     1.000000e+00       0.000000\n",
       "25%     2015.000000     3.800000e+01    1450.000000\n",
       "50%     2015.000000     2.110000e+02    2425.000000\n",
       "75%     2016.000000     1.364000e+03    4257.000000\n",
       "max     2016.000000     1.450254e+06  142344.000000"
      ]
     },
     "execution_count": 25,
     "metadata": {},
     "output_type": "execute_result"
    }
   ],
   "source": [
    "crop.describe()"
   ]
  },
  {
   "cell_type": "code",
   "execution_count": 26,
   "metadata": {
    "scrolled": true
   },
   "outputs": [
    {
     "data": {
      "text/html": [
       "<div>\n",
       "<style scoped>\n",
       "    .dataframe tbody tr th:only-of-type {\n",
       "        vertical-align: middle;\n",
       "    }\n",
       "\n",
       "    .dataframe tbody tr th {\n",
       "        vertical-align: top;\n",
       "    }\n",
       "\n",
       "    .dataframe thead th {\n",
       "        text-align: right;\n",
       "    }\n",
       "</style>\n",
       "<table border=\"1\" class=\"dataframe\">\n",
       "  <thead>\n",
       "    <tr style=\"text-align: right;\">\n",
       "      <th></th>\n",
       "      <th>APMC</th>\n",
       "      <th>Commodity</th>\n",
       "      <th>Year</th>\n",
       "      <th>Month</th>\n",
       "      <th>arrivals_in_qtl</th>\n",
       "      <th>modal_price</th>\n",
       "      <th>district_name</th>\n",
       "    </tr>\n",
       "  </thead>\n",
       "  <tbody>\n",
       "    <tr>\n",
       "      <th>0</th>\n",
       "      <td>Ahmednagar</td>\n",
       "      <td>Bajri</td>\n",
       "      <td>2015</td>\n",
       "      <td>April</td>\n",
       "      <td>79</td>\n",
       "      <td>1463</td>\n",
       "      <td>Ahmadnagar</td>\n",
       "    </tr>\n",
       "    <tr>\n",
       "      <th>1</th>\n",
       "      <td>Ahmednagar</td>\n",
       "      <td>Bajri</td>\n",
       "      <td>2016</td>\n",
       "      <td>April</td>\n",
       "      <td>106</td>\n",
       "      <td>1875</td>\n",
       "      <td>Ahmadnagar</td>\n",
       "    </tr>\n",
       "    <tr>\n",
       "      <th>2</th>\n",
       "      <td>Ahmednagar</td>\n",
       "      <td>Wheat(Husked)</td>\n",
       "      <td>2015</td>\n",
       "      <td>April</td>\n",
       "      <td>1253</td>\n",
       "      <td>1731</td>\n",
       "      <td>Ahmadnagar</td>\n",
       "    </tr>\n",
       "    <tr>\n",
       "      <th>3</th>\n",
       "      <td>Ahmednagar</td>\n",
       "      <td>Wheat(Husked)</td>\n",
       "      <td>2016</td>\n",
       "      <td>April</td>\n",
       "      <td>387</td>\n",
       "      <td>1999</td>\n",
       "      <td>Ahmadnagar</td>\n",
       "    </tr>\n",
       "    <tr>\n",
       "      <th>4</th>\n",
       "      <td>Ahmednagar</td>\n",
       "      <td>Sorgum(Jawar)</td>\n",
       "      <td>2015</td>\n",
       "      <td>April</td>\n",
       "      <td>3825</td>\n",
       "      <td>1900</td>\n",
       "      <td>Ahmadnagar</td>\n",
       "    </tr>\n",
       "  </tbody>\n",
       "</table>\n",
       "</div>"
      ],
      "text/plain": [
       "         APMC      Commodity  Year  Month  arrivals_in_qtl  modal_price  \\\n",
       "0  Ahmednagar          Bajri  2015  April               79         1463   \n",
       "1  Ahmednagar          Bajri  2016  April              106         1875   \n",
       "2  Ahmednagar  Wheat(Husked)  2015  April             1253         1731   \n",
       "3  Ahmednagar  Wheat(Husked)  2016  April              387         1999   \n",
       "4  Ahmednagar  Sorgum(Jawar)  2015  April             3825         1900   \n",
       "\n",
       "  district_name  \n",
       "0    Ahmadnagar  \n",
       "1    Ahmadnagar  \n",
       "2    Ahmadnagar  \n",
       "3    Ahmadnagar  \n",
       "4    Ahmadnagar  "
      ]
     },
     "execution_count": 26,
     "metadata": {},
     "output_type": "execute_result"
    }
   ],
   "source": [
    "crop.to_csv('Cleaned crop.csv')\n",
    "crop.head()"
   ]
  },
  {
   "cell_type": "code",
   "execution_count": 27,
   "metadata": {},
   "outputs": [],
   "source": [
    "x=crop.drop(columns='modal_price')\n",
    "y=crop['modal_price']"
   ]
  },
  {
   "cell_type": "code",
   "execution_count": 28,
   "metadata": {},
   "outputs": [
    {
     "data": {
      "text/html": [
       "<div>\n",
       "<style scoped>\n",
       "    .dataframe tbody tr th:only-of-type {\n",
       "        vertical-align: middle;\n",
       "    }\n",
       "\n",
       "    .dataframe tbody tr th {\n",
       "        vertical-align: top;\n",
       "    }\n",
       "\n",
       "    .dataframe thead th {\n",
       "        text-align: right;\n",
       "    }\n",
       "</style>\n",
       "<table border=\"1\" class=\"dataframe\">\n",
       "  <thead>\n",
       "    <tr style=\"text-align: right;\">\n",
       "      <th></th>\n",
       "      <th>APMC</th>\n",
       "      <th>Commodity</th>\n",
       "      <th>Year</th>\n",
       "      <th>Month</th>\n",
       "      <th>arrivals_in_qtl</th>\n",
       "      <th>district_name</th>\n",
       "    </tr>\n",
       "  </thead>\n",
       "  <tbody>\n",
       "    <tr>\n",
       "      <th>0</th>\n",
       "      <td>Ahmednagar</td>\n",
       "      <td>Bajri</td>\n",
       "      <td>2015</td>\n",
       "      <td>April</td>\n",
       "      <td>79</td>\n",
       "      <td>Ahmadnagar</td>\n",
       "    </tr>\n",
       "    <tr>\n",
       "      <th>1</th>\n",
       "      <td>Ahmednagar</td>\n",
       "      <td>Bajri</td>\n",
       "      <td>2016</td>\n",
       "      <td>April</td>\n",
       "      <td>106</td>\n",
       "      <td>Ahmadnagar</td>\n",
       "    </tr>\n",
       "    <tr>\n",
       "      <th>2</th>\n",
       "      <td>Ahmednagar</td>\n",
       "      <td>Wheat(Husked)</td>\n",
       "      <td>2015</td>\n",
       "      <td>April</td>\n",
       "      <td>1253</td>\n",
       "      <td>Ahmadnagar</td>\n",
       "    </tr>\n",
       "    <tr>\n",
       "      <th>3</th>\n",
       "      <td>Ahmednagar</td>\n",
       "      <td>Wheat(Husked)</td>\n",
       "      <td>2016</td>\n",
       "      <td>April</td>\n",
       "      <td>387</td>\n",
       "      <td>Ahmadnagar</td>\n",
       "    </tr>\n",
       "    <tr>\n",
       "      <th>4</th>\n",
       "      <td>Ahmednagar</td>\n",
       "      <td>Sorgum(Jawar)</td>\n",
       "      <td>2015</td>\n",
       "      <td>April</td>\n",
       "      <td>3825</td>\n",
       "      <td>Ahmadnagar</td>\n",
       "    </tr>\n",
       "    <tr>\n",
       "      <th>...</th>\n",
       "      <td>...</td>\n",
       "      <td>...</td>\n",
       "      <td>...</td>\n",
       "      <td>...</td>\n",
       "      <td>...</td>\n",
       "      <td>...</td>\n",
       "    </tr>\n",
       "    <tr>\n",
       "      <th>62424</th>\n",
       "      <td>Shrigonda</td>\n",
       "      <td>GRAM</td>\n",
       "      <td>2016</td>\n",
       "      <td>November</td>\n",
       "      <td>586</td>\n",
       "      <td>Ahmadnagar</td>\n",
       "    </tr>\n",
       "    <tr>\n",
       "      <th>62425</th>\n",
       "      <td>Shrigonda</td>\n",
       "      <td>GREEN GRAM</td>\n",
       "      <td>2016</td>\n",
       "      <td>November</td>\n",
       "      <td>2</td>\n",
       "      <td>Ahmadnagar</td>\n",
       "    </tr>\n",
       "    <tr>\n",
       "      <th>62426</th>\n",
       "      <td>Shrigonda</td>\n",
       "      <td>BLACK GRAM</td>\n",
       "      <td>2016</td>\n",
       "      <td>November</td>\n",
       "      <td>46</td>\n",
       "      <td>Ahmadnagar</td>\n",
       "    </tr>\n",
       "    <tr>\n",
       "      <th>62427</th>\n",
       "      <td>Shrigonda</td>\n",
       "      <td>SOYBEAN</td>\n",
       "      <td>2016</td>\n",
       "      <td>November</td>\n",
       "      <td>166</td>\n",
       "      <td>Ahmadnagar</td>\n",
       "    </tr>\n",
       "    <tr>\n",
       "      <th>62428</th>\n",
       "      <td>Shrigonda</td>\n",
       "      <td>SUNFLOWER</td>\n",
       "      <td>2016</td>\n",
       "      <td>November</td>\n",
       "      <td>74</td>\n",
       "      <td>Ahmadnagar</td>\n",
       "    </tr>\n",
       "  </tbody>\n",
       "</table>\n",
       "<p>62429 rows × 6 columns</p>\n",
       "</div>"
      ],
      "text/plain": [
       "             APMC      Commodity  Year     Month  arrivals_in_qtl  \\\n",
       "0      Ahmednagar          Bajri  2015     April               79   \n",
       "1      Ahmednagar          Bajri  2016     April              106   \n",
       "2      Ahmednagar  Wheat(Husked)  2015     April             1253   \n",
       "3      Ahmednagar  Wheat(Husked)  2016     April              387   \n",
       "4      Ahmednagar  Sorgum(Jawar)  2015     April             3825   \n",
       "...           ...            ...   ...       ...              ...   \n",
       "62424   Shrigonda           GRAM  2016  November              586   \n",
       "62425   Shrigonda     GREEN GRAM  2016  November                2   \n",
       "62426   Shrigonda     BLACK GRAM  2016  November               46   \n",
       "62427   Shrigonda        SOYBEAN  2016  November              166   \n",
       "62428   Shrigonda      SUNFLOWER  2016  November               74   \n",
       "\n",
       "      district_name  \n",
       "0        Ahmadnagar  \n",
       "1        Ahmadnagar  \n",
       "2        Ahmadnagar  \n",
       "3        Ahmadnagar  \n",
       "4        Ahmadnagar  \n",
       "...             ...  \n",
       "62424    Ahmadnagar  \n",
       "62425    Ahmadnagar  \n",
       "62426    Ahmadnagar  \n",
       "62427    Ahmadnagar  \n",
       "62428    Ahmadnagar  \n",
       "\n",
       "[62429 rows x 6 columns]"
      ]
     },
     "execution_count": 28,
     "metadata": {},
     "output_type": "execute_result"
    }
   ],
   "source": [
    "x"
   ]
  },
  {
   "cell_type": "code",
   "execution_count": 29,
   "metadata": {},
   "outputs": [
    {
     "data": {
      "text/plain": [
       "0        1463\n",
       "1        1875\n",
       "2        1731\n",
       "3        1999\n",
       "4        1900\n",
       "         ... \n",
       "62424    6200\n",
       "62425    5000\n",
       "62426    6400\n",
       "62427    2633\n",
       "62428    3067\n",
       "Name: modal_price, Length: 62429, dtype: int64"
      ]
     },
     "execution_count": 29,
     "metadata": {},
     "output_type": "execute_result"
    }
   ],
   "source": [
    "y"
   ]
  },
  {
   "cell_type": "code",
   "execution_count": 30,
   "metadata": {},
   "outputs": [],
   "source": [
    "from sklearn.model_selection import train_test_split\n",
    "x_train,x_test,y_train,y_test=train_test_split(x,y,test_size=0.2)"
   ]
  },
  {
   "cell_type": "code",
   "execution_count": 31,
   "metadata": {},
   "outputs": [],
   "source": [
    "from sklearn.linear_model import LinearRegression\n",
    "from sklearn.metrics import r2_score\n",
    "from sklearn.preprocessing import OneHotEncoder\n",
    "from sklearn.compose import make_column_transformer\n",
    "from sklearn.pipeline import make_pipeline"
   ]
  },
  {
   "cell_type": "code",
   "execution_count": 32,
   "metadata": {},
   "outputs": [
    {
     "data": {
      "text/plain": [
       "OneHotEncoder()"
      ]
     },
     "execution_count": 32,
     "metadata": {},
     "output_type": "execute_result"
    }
   ],
   "source": [
    "ohe=OneHotEncoder()\n",
    "ohe.fit(x[['APMC','Commodity','Month','district_name']])\n"
   ]
  },
  {
   "cell_type": "code",
   "execution_count": 33,
   "metadata": {},
   "outputs": [
    {
     "data": {
      "text/plain": [
       "[array(['Aamgaon', 'Aarni', 'Achalpur', 'Aheri', 'Ahmednagar', 'Ahmedpur',\n",
       "        'Akhadabalapur', 'Akkalkuwa', 'Akkolkot', 'Akluj', 'Akola',\n",
       "        'Akole', 'Akot', 'Alibag', 'Amalner', 'Amarawati',\n",
       "        'Amarawati-Fruit And Vegetables', 'Ambad(Vadi Godri)', 'Ambejogai',\n",
       "        'Anajngaon Surji', 'Arjuni Morgaon', 'Armori', 'Armori-Desaiganj',\n",
       "        'Arvi', 'Ashti (Jalna)', 'Ashti (Wardha)', 'Ashti-Karanja',\n",
       "        'Atpadi', 'Aurad Shahajani', 'Aurangabad', 'Ausa', 'Babhulgaon',\n",
       "        'Balapur', 'Baramati', 'Barshi', 'Barshi Takli', 'Barshi-Vairag',\n",
       "        'Basmat', 'Basmat (Kurunda)', 'Beed', 'Bhadrawati', 'Bhandara',\n",
       "        'Bhivandi', 'Bhiwapur', 'Bhokar', 'Bhokardan',\n",
       "        'Bhokardan-Pimpalgaon Renu', 'Bhoom', 'Bhor', 'Bhusaval', 'Biloli',\n",
       "        'Bodwad-Varangaon', 'Bori', 'Bori Arab', 'Brahmpuri', 'Buldhana',\n",
       "        'Buldhana-Dhad', 'Chakur', 'Chalisgaon', 'Chamorshi', 'Chandrapur',\n",
       "        'Chandrapur-Ganjwad', 'Chandur Bajar', 'Chandur Rly.', 'Chandvad',\n",
       "        'Chikhali', 'Chimur', 'Chopda', 'Darwha', 'Daryapur', 'Deglur',\n",
       "        'Deulgaon Raja', 'Devala', 'Devani', 'Devri', 'Dhadgaon',\n",
       "        'Dhamangaon-Rly', 'Dharangaon', 'Dharmabad', 'Dharni', 'Dhule',\n",
       "        'Digras', 'Dindori', 'Dindori-Vani', 'Dondaicha',\n",
       "        'Dondaicha-Sindkheda', 'Dound', 'Dudhani', 'Fulambri',\n",
       "        'Gadchiroli', 'Gadhinglaj', 'Gangakhed', 'Gangapur', 'Gevrai',\n",
       "        'Ghansawangi', 'Ghatanji', 'Ghoti', 'Gondiya', 'Gondpimpri',\n",
       "        'Goregaon', 'Hadgaon', 'Hadgaon-Tamsa', 'Hanegaon', 'Himayatnagar',\n",
       "        'Hinganghat', 'Hingna', 'Hingoli', 'Hingoli-Kanegaon Naka',\n",
       "        'Indapur', 'Indapur (Nimgaon Ketki)', 'Indapur-Bhigwan',\n",
       "        'Islampur', 'Jafrabad', 'Jalgaon', 'Jalgaon Jamod',\n",
       "        'Jalgaon Jamod-Aasalgaon', 'Jalgaon-Masawat', 'Jalkot', 'Jalna',\n",
       "        'Jalna-Badnapur', 'Jamkhed', 'Jamner', 'Jamner-Neri',\n",
       "        'Jawala-Bajar', 'Jintur', 'Jintur-Bori', 'Junnar',\n",
       "        'Junnar (Alephata)', 'Junnar (Bhlhe)', 'Junnar (Narayangaon)',\n",
       "        'Junnar-Otur', 'Kada', 'Kada (Ashti)', 'Kalamb (Os)',\n",
       "        'Kalamb (Yawatmal)', 'Kalamnuri', 'Kalmeshwar', 'Kalvan', 'Kalyan',\n",
       "        'Kalyan (Cattle Market)', 'Kamthi', 'Kannad', 'Karad', 'Karanja',\n",
       "        'Karjat (A- Nagar)', 'Karjat (Raigad)', 'Karmala', 'Katol', 'Kej',\n",
       "        'Khalapur(Shil-Phata)', 'Khamgaon', 'Khed',\n",
       "        'Khed (Shel Pimpalgaon)', 'Khed-Chakan', 'Khultabad',\n",
       "        'Kille Dharur', 'Kinwat', 'Kolhapur', 'Kolhapur-Laxmipuri',\n",
       "        'Kolhapur-Malkapur', 'Kopargaon', 'Koregaon', 'Korpana',\n",
       "        'Kundalwadi', 'Kuntur', 'Kurdwadi', 'Kurdwadi-Modnimb',\n",
       "        'Lakhandur', 'Lakhani', 'Lasalgaon', 'Lasalgaon-Niphad',\n",
       "        'Lasalgaon-Vinchur', 'Lasur Station', 'Latur', 'Latur-Murud',\n",
       "        'Loha', 'Lohara', 'Lonand', 'Lonar', 'Mahad', 'Mahagaon', 'Mahur',\n",
       "        'Majalgaon', 'Malegaon', 'Malegaon (Washim)', 'Malkapur',\n",
       "        'Manchar', 'Mandhal', 'Mangalwedha', 'Mangaon(Bhadav)',\n",
       "        'Mangrulpeer', 'Manmad', 'Manora', 'Mantha', 'Manwat', 'Maregaon',\n",
       "        'Mauda', 'Mehkar', 'Mohol', 'Morshi', 'Mudkhed', 'Mukhed', 'Mul',\n",
       "        'Mumbai', 'Mumbai-Fruit Market', 'Mumbai-Onion And Potato Mkt',\n",
       "        'Murbad', 'Murtizapur', 'Murud', 'Murum', 'Nagbhid', 'Nagpur',\n",
       "        'Naigaon', 'Nampur', 'Nanded', 'Nandgaon', 'Nandgaon Khandeshwar',\n",
       "        'Nandura', 'Nandurbar', 'Narkhed', 'Nashik', 'Nashik-Devlali',\n",
       "        'Navapur', 'Ner Parasopant', 'Newasa', 'Newasa-Ghodegaon',\n",
       "        'Nilanga', 'Nira', 'Nira-Saswad', 'Osmanabad', 'Pachora',\n",
       "        'Paithan', 'Palam', 'Palghar(Bevur)', 'Palus', 'Pandharkawada',\n",
       "        'Pandharpur', 'Panvel', 'Paranda', 'Parbhani', 'Parli-Vaijnath',\n",
       "        'Parner', 'Parola', 'Parshiwani', 'Partur', 'Patan', 'Pathardi',\n",
       "        'Pathari', 'Patur', 'Pavani', 'Pen', 'Phaltan',\n",
       "        'Pimpalgaon (B)-Saykheda', 'Pimpalgaon Basawant', 'Pombhurni',\n",
       "        'Pulgaon', 'Pune', 'Pune-Manjri', 'Pune-Moshi', 'Pune-Pimpri',\n",
       "        'Purna', 'Pusad', 'Rahata', 'Rahuri', 'Rahuri-Songaon',\n",
       "        'Rahuri-Vambori', 'Rajura', 'Ralegaon', 'Ramtek', 'Ratanagari',\n",
       "        'Raver', 'Raver-Sawada', 'Risod', 'Roha', 'Sadak Arjuni', 'Sailu',\n",
       "        'Sakri', 'Samudrapur', 'Sangali', 'Sangamner', 'Sangli-Miraj',\n",
       "        'Sangli-Phale Bhajipalam', 'Sangola', 'Sangrampur',\n",
       "        'Sangrampur-Varvatbakal', 'Satana', 'Satara', 'Savali', 'Savner',\n",
       "        'Sengaon', 'Shahada', 'Shahapur', 'Shegaon', 'Shevgaon',\n",
       "        'Shevgaon-Bodhegaon', 'Shirala', 'Shirpur', 'Shirur', 'Shrigonda',\n",
       "        'Shrigonda-Ghogargaon', 'Shrirampur', 'Shrirampur-Belapur',\n",
       "        'Sillod', 'Sillod-Bharadi', 'Sindevahi', 'Sindi', 'Sindi (Selu)',\n",
       "        'Sindkhed Raja', 'Sinner', 'Sironcha', 'Solapur', 'Sonpeth',\n",
       "        'Soygaon', 'Tadkalas', 'Talegaon Dabhade', 'Taloda', 'Tasgaon',\n",
       "        'Telhara', 'Tiroda', 'Tiwasa', 'Tuljapur', 'Tumsar', 'Udgir',\n",
       "        'Ulhasnagar', 'Umared', 'Umarga', 'Umari', 'Umarkhed',\n",
       "        'Umarkhed-Danki', 'Umrane', 'Vadgaon Peth', 'Vaduj', 'Vadvani',\n",
       "        'Vai', 'Vaijapur', 'Vani', 'Varora', 'Varud', 'Varud-Rajura Bazar',\n",
       "        'Vasai', 'Vita', 'Wardha', 'Washi(Osmanabad)', 'Washim',\n",
       "        'Washim-Ansing', 'Yawal', 'Yeola', 'Yeotmal', 'Zarijamini'],\n",
       "       dtype=object),\n",
       " array(['AMBAT CHUKA', 'AMLA', 'APPLE', 'ARVI', 'AWALA', 'Amba Koy',\n",
       "        'Ambat Chuka', 'Amla', 'Apple', 'Arvi', 'Aster', 'Awala', 'BAJRI',\n",
       "        'BANANA', 'BATBATI', 'BEET ROOT', 'BETELNUTS', 'BHAGAR/VARI',\n",
       "        'BITTER GOURD', 'BLACK GRAM', 'BOR', 'BOTTLE GOURD', 'BRINJAL',\n",
       "        'BUFFALO', 'Bajri', 'Banana', 'Banana(Raw)', 'Baru Seed',\n",
       "        'Batbati', 'Bedana', 'Beet Root', 'Betelnuts', 'Bhagar/Vari',\n",
       "        'Bijli', 'Bitter Gourd', 'Black Gram', 'Bor', 'Bottle Gourd',\n",
       "        'Brinjal', 'Buffalo', 'Bullack', 'Bullock Heart', 'CABBAGE',\n",
       "        'CAPSICUM', 'CARDAMOM', 'CARROT', 'CASHEWNUTS', 'CASTOR SEED',\n",
       "        'CHAVLI (PALA)', 'CHAVLI (SHENGA )', 'CHIKOO', 'CHILLIES(RED)',\n",
       "        'CLUSTER BEAN', 'COCONUT', 'CORIANDER ', 'CORIANDER (DRY)',\n",
       "        'COTTON', 'COWPEA', 'CUCUMBER', 'CUMMIN', 'CURRY LEAVES',\n",
       "        'CUSTARD APPLE', 'Cabbage', 'Capsicum', 'Cardamom', 'Carrot',\n",
       "        'Cashewnuts', 'Castor Seed', 'Chandani', 'Chavli (Pala)',\n",
       "        'Chavli (Shenga )', 'Chikoo', 'Chillies(Red)', 'Chino',\n",
       "        'Cluster Bean', 'Coconut', 'Coriander ', 'Coriander  ',\n",
       "        'Coriander (Dry)', 'Cotton', 'Cow', 'Cowpea', 'Cucumber', 'Cummin',\n",
       "        'Curry Leaves', 'Custard Apple', 'DHEMSE', 'DOUBLE BEE', 'Dhemse',\n",
       "        'Double Bee', 'ELEPHANT ROOT', 'Elephant Root', 'FARSHI', 'FENNEL',\n",
       "        'FIG', 'FLOWER', 'FODDER', 'FRENCH BEAN', 'Farshi', 'Fennel',\n",
       "        'Fenugreek', 'Fig', 'Flower', 'Fodder', 'French Bean', 'GARLIC',\n",
       "        'GHEVDA', 'GHEVDA SEED', 'GHOSALI(BHAJI)', 'GINGER (DRY)',\n",
       "        'GINGER (FRESH)', 'GOATS', 'GOOSEFOOT', 'GR.NUT KERNELS', 'GRAM',\n",
       "        'GRAPES', 'GREEN CHILLI', 'GREEN GRAM', 'GREEN PEAS (DRY)',\n",
       "        'GREEN-PEAS', 'GROUND NUT PODS (DRY)', 'GROUNDNUT PODS (WET)',\n",
       "        'GUAVA', 'GUVAR', 'Garlic', 'Ghee', 'Ghevda', 'Ghevda Seed',\n",
       "        'Ghosali(Bhaji)', 'Ginger (Dry)', 'Ginger (Fresh)', 'Goats',\n",
       "        'Goosefoot', 'Gr.Nut Kernels', 'Gram', 'Grapes', 'Green Chilli',\n",
       "        'Green Gram', 'Green Peas (Dry)', 'Green-Peas',\n",
       "        'Ground Nut Pods (Dry)', 'Guava', 'Gulchadi', 'Guvar',\n",
       "        'HARBARA(BHAJI)', 'HARBARA(PENDI)', 'HEMP', 'HORSE GRAM',\n",
       "        'Harbara(Bhaji)', 'Harbara(Pendi)', 'He Buffalo', 'Hemp',\n",
       "        'Hemp-Seed', 'Hilda', 'Horse Gram', 'INDIAN BEAN', 'Indian Bean',\n",
       "        'JACK FRUIT', 'JAGGERY', 'Jack Fruit', 'Jack Fruit(Raw)',\n",
       "        'Jaggery', 'Jambhul', 'Jui', 'KANDA PAT', 'KARDAI', 'KHARBUJ',\n",
       "        'Kagda', 'Kalvad', 'Kand', 'Kanda Pat', 'Kardai', 'Karvand',\n",
       "        'Kharbuj', 'LADIES FINGER', 'LEAFY VEGETABLE', 'LEMON', 'LENTIL',\n",
       "        'LINSEED', 'Ladies Finger', 'Lang', 'Leafy Vegetable', 'Lemon',\n",
       "        'Lentil', 'Linseed', 'Litchi', 'MAIZE', 'MAIZE(CORN.)',\n",
       "        'MALE GOAT', 'MALE LAMB', 'MANGO', 'MANGO(RAW)', 'MATH (BHAJI)',\n",
       "        'MATKI', 'MELON', 'METHI (BHAJI)', 'MINT', 'MOSAMBI',\n",
       "        'MULA SHENGA', 'MUSTARD', 'Maize', 'Maize (Corn.)', 'Maize(Corn.)',\n",
       "        'Male Goat', 'Male Lamb', 'Mango', 'Mango(Raw)', 'Math (Bhaji)',\n",
       "        'Matki', 'Melon', 'Methi (Bhaji)', 'Mint', 'Mosambi',\n",
       "        'Mula Shenga', 'Mustard', 'NACHANI', 'NAGALI', 'NIGER-SEED',\n",
       "        'NOLKOL', 'Nachani', 'Nagali', 'Naspatti ', 'Neem-Seed',\n",
       "        'Niger-Seed', 'Nolkol', 'ONION', 'ORANGE', 'OTHER CEREALS',\n",
       "        'OTHER PULSES', 'OTHER VEGETABLES', 'Onion', 'Orange',\n",
       "        'Oth.Split Pulses', 'Other Cereals', 'Other Oil Seeds',\n",
       "        'Other Pulses', 'Other Spices', 'Other Vegetables',\n",
       "        'PADDY-UNHUSKED', 'PAPAI', 'PARWAR', 'PAVATA', 'PAVTTA',\n",
       "        'PIGEN-PEA (BHAJI)', 'PIGEON PEA (TUR)', 'PINEAPPLE',\n",
       "        'POMEGRANATE', 'POTATO', 'PUMPKIN', 'PUNVAD', 'Paddy-Unhusked',\n",
       "        'Papai', 'Papnas', 'Pappaya (Bhaji)', 'Parwar', 'Pavata', 'Pavtta',\n",
       "        'Peer', 'Pigen-Pea (Bhaji)', 'Pigeon Pea (Tur)', 'Pineapple',\n",
       "        'Pitch', 'Plum', 'Pomegranate', 'Potato', 'Pumpkin', 'Punvad',\n",
       "        'RADDISH', 'RAJGIRA', 'RICE(PADDY-HUS)', 'RIDGE GOURD', 'Raddish',\n",
       "        'Radish', 'Rajgira', 'Rala', 'Rice(Paddy-Hus)', 'Ridge Gourd',\n",
       "        'SAFFLOWER', 'SARSAV', 'SESAMUM', 'SHAHALE', 'SHEEP', 'SHEPU',\n",
       "        'SHEVGA', 'SMALL GOURD', 'SNAKE GOURD', 'SORGUM(JAWAR)', 'SOYBEAN',\n",
       "        'SPILT GERRN GRAM', 'SPILT PIGEON PEA', 'SPINACH',\n",
       "        'SPLIT BLACK GRAM', 'SPLIT GRAM', 'SPLIT LENTIL', 'SQUASH GOURD',\n",
       "        'SUGAR', 'SUNFLOWER', 'SWEET POTATO', 'Safflower', 'Sarsav',\n",
       "        'Sesamum', 'Shahale ', 'Sheep', 'Shepa', 'Shepu', 'Shevga',\n",
       "        'Shewanti', 'Skin & Bones', 'Small Gourd', 'Snake Gourd',\n",
       "        'Sorgum(Jawar)', 'Soup Berries', 'Soybean', 'Spilt Gerrn Gram',\n",
       "        'Spilt Pigeon Pea', 'Spinach', 'Split Black Gram', 'Split Gram',\n",
       "        'Split Lentil', 'Squash Gourd', 'Strawberi', 'Sugar', 'Sugarcane',\n",
       "        'Sunflower', 'Sweet Potato', 'TAMARIND', 'TANDULJA', 'TOMATO',\n",
       "        'TURMERIC', 'Tag', 'Tamarind', 'Tamarind Seed', 'Tandulja',\n",
       "        'Terda', 'Thymol/Lovage', 'Tomato', 'Tuljapuri', 'Turmeric',\n",
       "        'WAL BHAJI', 'WAL PAPDI', 'WALVAD', 'WATER MELON', 'WHEAT(HUSKED)',\n",
       "        'WHEAT(UNHUSKED)', 'Wal Bhaji', 'Wal Papdi', 'Walvad',\n",
       "        'Water Melon', 'Wheat(Husked)', 'Wheat(Unhusked)', 'Wood Apple',\n",
       "        'Zendu'], dtype=object),\n",
       " array(['April', 'August', 'December', 'February', 'January', 'July',\n",
       "        'June', 'March', 'May', 'November', 'October', 'September'],\n",
       "       dtype=object),\n",
       " array(['Ahmadnagar', 'Akola', 'Amaravathi', 'Aurangabad', 'Beed',\n",
       "        'Bhandara', 'Buldhana', 'Chandrapur', 'Dhule', 'Gadchiroli',\n",
       "        'Gondiya', 'Hingoli', 'Jalgaon', 'Jalna', 'Kolhapur', 'Latur',\n",
       "        'Mumbai', 'Nagpur', 'Nanded', 'Nandurbar', 'Nasik', 'Osmanabad',\n",
       "        'Parbhani', 'Pune', 'Raigad', 'Ratnagiri', 'Sangli', 'Satara',\n",
       "        'Solapur', 'Thane', 'Wardha', 'Wasim', 'Yewatmal'], dtype=object)]"
      ]
     },
     "execution_count": 33,
     "metadata": {},
     "output_type": "execute_result"
    }
   ],
   "source": [
    "# pass all these categories to one hot encoding\n",
    "ohe.categories_"
   ]
  },
  {
   "cell_type": "code",
   "execution_count": 34,
   "metadata": {},
   "outputs": [],
   "source": [
    "## column transform tells that just perform oneHotEncoding to categories and pass the rest column\n",
    "column_trans=make_column_transformer((OneHotEncoder(categories=ohe.categories_),['APMC','Commodity','Month','district_name']),remainder='passthrough')"
   ]
  },
  {
   "cell_type": "code",
   "execution_count": 35,
   "metadata": {},
   "outputs": [],
   "source": [
    "lr=LinearRegression()"
   ]
  },
  {
   "cell_type": "code",
   "execution_count": 36,
   "metadata": {},
   "outputs": [],
   "source": [
    "pipe=make_pipeline(column_trans,lr)## make pipeline of columnn_transform and linear regression"
   ]
  },
  {
   "cell_type": "code",
   "execution_count": 37,
   "metadata": {},
   "outputs": [
    {
     "data": {
      "text/plain": [
       "Pipeline(steps=[('columntransformer',\n",
       "                 ColumnTransformer(remainder='passthrough',\n",
       "                                   transformers=[('onehotencoder',\n",
       "                                                  OneHotEncoder(categories=[array(['Aamgaon', 'Aarni', 'Achalpur', 'Aheri', 'Ahmednagar', 'Ahmedpur',\n",
       "       'Akhadabalapur', 'Akkalkuwa', 'Akkolkot', 'Akluj', 'Akola',\n",
       "       'Akole', 'Akot', 'Alibag', 'Amalner', 'Amarawati',\n",
       "       'Amarawati-Fruit And Vegetables', 'Ambad(Vadi God...\n",
       "       'Bhandara', 'Buldhana', 'Chandrapur', 'Dhule', 'Gadchiroli',\n",
       "       'Gondiya', 'Hingoli', 'Jalgaon', 'Jalna', 'Kolhapur', 'Latur',\n",
       "       'Mumbai', 'Nagpur', 'Nanded', 'Nandurbar', 'Nasik', 'Osmanabad',\n",
       "       'Parbhani', 'Pune', 'Raigad', 'Ratnagiri', 'Sangli', 'Satara',\n",
       "       'Solapur', 'Thane', 'Wardha', 'Wasim', 'Yewatmal'], dtype=object)]),\n",
       "                                                  ['APMC', 'Commodity', 'Month',\n",
       "                                                   'district_name'])])),\n",
       "                ('linearregression', LinearRegression())])"
      ]
     },
     "execution_count": 37,
     "metadata": {},
     "output_type": "execute_result"
    }
   ],
   "source": [
    "pipe.fit(x_train,y_train)"
   ]
  },
  {
   "cell_type": "code",
   "execution_count": 38,
   "metadata": {},
   "outputs": [
    {
     "data": {
      "text/plain": [
       "array([3538.51860451, 1319.80838108, 1790.93866129, ..., 1975.93927737,\n",
       "       7062.15926899, 1052.47663613])"
      ]
     },
     "execution_count": 38,
     "metadata": {},
     "output_type": "execute_result"
    }
   ],
   "source": [
    "y_pred=pipe.predict(x_test)\n",
    "y_pred"
   ]
  },
  {
   "cell_type": "code",
   "execution_count": 39,
   "metadata": {},
   "outputs": [
    {
     "data": {
      "text/plain": [
       "0.7916436448138863"
      ]
     },
     "execution_count": 39,
     "metadata": {},
     "output_type": "execute_result"
    }
   ],
   "source": [
    "r2_score(y_test,y_pred)"
   ]
  },
  {
   "cell_type": "code",
   "execution_count": 40,
   "metadata": {},
   "outputs": [],
   "source": [
    "## to find the best score we are spliting 10 times \n",
    "scores=[]\n",
    "for i in range(10):\n",
    "    x_train,x_test,y_train,y_test=train_test_split(x,y,test_size=0.2,random_state=i)\n",
    "    lr=LinearRegression()\n",
    "    pipe=make_pipeline(column_trans,lr)\n",
    "    pipe.fit(x_train,y_train)\n",
    "    y_pred=pipe.predict(x_test)\n",
    "    scores.append(r2_score(y_test,y_pred))"
   ]
  },
  {
   "cell_type": "code",
   "execution_count": 41,
   "metadata": {},
   "outputs": [
    {
     "data": {
      "text/plain": [
       "9"
      ]
     },
     "execution_count": 41,
     "metadata": {},
     "output_type": "execute_result"
    }
   ],
   "source": [
    "np.argmax(scores)"
   ]
  },
  {
   "cell_type": "code",
   "execution_count": 42,
   "metadata": {},
   "outputs": [
    {
     "data": {
      "text/plain": [
       "0.8611617743475541"
      ]
     },
     "execution_count": 42,
     "metadata": {},
     "output_type": "execute_result"
    }
   ],
   "source": [
    "scores[np.argmax(scores)]"
   ]
  },
  {
   "cell_type": "code",
   "execution_count": 43,
   "metadata": {},
   "outputs": [
    {
     "data": {
      "text/plain": [
       "0.8611617743475541"
      ]
     },
     "execution_count": 43,
     "metadata": {},
     "output_type": "execute_result"
    }
   ],
   "source": [
    "x_train,x_test,y_train,y_test=train_test_split(x,y,test_size=0.2,random_state=np.argmax(scores))\n",
    "lr=LinearRegression()\n",
    "pipe=make_pipeline(column_trans,lr)\n",
    "pipe.fit(x_train,y_train)\n",
    "y_pred=pipe.predict(x_test)\n",
    "scores.append(r2_score(y_test,y_pred))\n",
    "r2_score(y_test,y_pred)"
   ]
  },
  {
   "cell_type": "code",
   "execution_count": 44,
   "metadata": {},
   "outputs": [],
   "source": [
    " import pickle"
   ]
  },
  {
   "cell_type": "code",
   "execution_count": 45,
   "metadata": {},
   "outputs": [],
   "source": [
    "pickle.dump(pipe,open('LinearRegressionModel.pkl','wb'))\n"
   ]
  },
  {
   "cell_type": "code",
   "execution_count": 46,
   "metadata": {},
   "outputs": [
    {
     "data": {
      "text/plain": [
       "array([4794.07458116])"
      ]
     },
     "execution_count": 46,
     "metadata": {},
     "output_type": "execute_result"
    }
   ],
   "source": [
    "pipe.predict(pd.DataFrame([['Ahmednagar','Sorgum(Jawar)','2022','November',821,'Ahmadnagar']],columns=['APMC','Commodity','Year','Month','arrivals_in_qtl','district_name']))"
   ]
  },
  {
   "cell_type": "code",
   "execution_count": 54,
   "metadata": {},
   "outputs": [
    {
     "name": "stdout",
     "output_type": "stream",
     "text": [
      "[5074.97308158]\n"
     ]
    }
   ],
   "source": [
    "\n",
    "# Loading model to compare the results\n",
    "model = pickle.load(open('LinearRegressionModel.pkl','rb'))\n",
    "pred=model.predict(pd.DataFrame([['Ahmednagar', 'Bajri', 2024, 'April',100,'Ahmadnagar']],columns=['APMC','Commodity','Year','Month','arrivals_in_qtl','district_name']))\n",
    "print(pred)"
   ]
  },
  {
   "cell_type": "code",
   "execution_count": null,
   "metadata": {},
   "outputs": [],
   "source": []
  }
 ],
 "metadata": {
  "kernelspec": {
   "display_name": "Python 3",
   "language": "python",
   "name": "python3"
  },
  "language_info": {
   "codemirror_mode": {
    "name": "ipython",
    "version": 3
   },
   "file_extension": ".py",
   "mimetype": "text/x-python",
   "name": "python",
   "nbconvert_exporter": "python",
   "pygments_lexer": "ipython3",
   "version": "3.8.1"
  }
 },
 "nbformat": 4,
 "nbformat_minor": 5
}
